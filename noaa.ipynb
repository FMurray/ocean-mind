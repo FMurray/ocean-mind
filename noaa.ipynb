{
 "cells": [
  {
   "cell_type": "code",
   "execution_count": 8,
   "metadata": {},
   "outputs": [],
   "source": [
    "%load_ext autoreload\n",
    "%autoreload 2"
   ]
  },
  {
   "cell_type": "code",
   "execution_count": 4,
   "metadata": {},
   "outputs": [],
   "source": [
    "from datasets import AsyncPaginatedFetcher\n",
    "\n",
    "query = {  \n",
    "    \"queries\": [\n",
    "        {\n",
    "            \"type\" : \"queryText\",\n",
    "            \"value\": \"temperature\"\n",
    "        }      \n",
    "    ],\n",
    "    \"summary\": False\n",
    "}\n",
    "\n",
    "# fetcher = AsyncPaginatedFetcher(\n",
    "#     'https://data.noaa.gov/onestop/api/search/search/collection',\n",
    "#     query,\n",
    "#     500, \n",
    "#     results_per_page=50,\n",
    "#     n_workers=5,\n",
    "#     # result_handler=handler\n",
    "# )\n",
    "\n",
    "# await fetcher.fetch_all()\n",
    "\n",
    "# await main('https://data.noaa.gov/onestop/api/search/search/collection', 80, 20, handler, query)"
   ]
  },
  {
   "cell_type": "code",
   "execution_count": 13,
   "metadata": {},
   "outputs": [],
   "source": [
    "import httpx\n",
    "headers = {'Accept': 'application/json'}\n",
    "\n",
    "temperature = httpx.post('https://data.noaa.gov/onestop/api/search/search/collection', headers=headers, json=query).json()"
   ]
  },
  {
   "cell_type": "code",
   "execution_count": 32,
   "metadata": {},
   "outputs": [
    {
     "data": {
      "text/plain": [
       "{'attributes': {'stagedDate': 1688888428983,\n",
       "  'fileIdentifier': 'gov.noaa.ncei:SeaSurfaceTemperature',\n",
       "  'title': '.Sea Surface Temperature',\n",
       "  'description': 'Derived from processed satellite observations. These data are usually within 0.5 degrees Celsius uncertainty for ocean areas and 1 degree Celsius uncertainty for coastal areas.',\n",
       "  'keywords': [],\n",
       "  'spatialBounding': {'type': 'Polygon',\n",
       "   'coordinates': [[[-97.9, 17.1],\n",
       "     [-78.66, 17.1],\n",
       "     [-78.66, 31.6],\n",
       "     [-97.9, 31.6],\n",
       "     [-97.9, 17.1]]]},\n",
       "  'isGlobal': False,\n",
       "  'dataFormats': [{'name': 'PNG'}],\n",
       "  'dataFormat': ['PNG'],\n",
       "  'links': [{'linkFunction': 'completeMetadata'}],\n",
       "  'linkProtocol': [],\n",
       "  'serviceLinkProtocol': [],\n",
       "  'individualNames': [],\n",
       "  'organizationNames': [],\n",
       "  'thumbnail': 'Not provided.',\n",
       "  'citeAsStatements': [],\n",
       "  'crossReferences': [],\n",
       "  'largerWorks': [],\n",
       "  'legalConstraints': [],\n",
       "  'dsmmAverage': 0.0,\n",
       "  'serviceLinks': []},\n",
       " 'id': '9dca1cc1-999f-451d-aa73-e5c240383b38',\n",
       " 'type': 'collection'}"
      ]
     },
     "execution_count": 32,
     "metadata": {},
     "output_type": "execute_result"
    }
   ],
   "source": [
    "temperature['data'][0]"
   ]
  },
  {
   "cell_type": "code",
   "execution_count": 35,
   "metadata": {},
   "outputs": [],
   "source": [
    "import pandas as pd\n",
    "temp_df = pd.json_normalize(temperature['data'])\n",
    "# temp_df\n",
    "# df = pd.json_normalize(data['data'])\n",
    "# temp_df['attributes.spatialBounding.coordinates'] = temp_df['attributes.spatialBounding.coordinates'].astype(str)temp_df['attributes.spatialBounding.coordinates'] = temp_df['attributes.spatialBounding.coordinates'].astype(str)\n",
    "# temp_df['onestop_query'] = query['queries'][0]['value']"
   ]
  },
  {
   "cell_type": "code",
   "execution_count": 40,
   "metadata": {},
   "outputs": [
    {
     "name": "stdout",
     "output_type": "stream",
     "text": [
      "object\n",
      "object\n",
      "int64\n",
      "object\n",
      "object\n",
      "object\n",
      "object\n",
      "object\n",
      "object\n",
      "bool\n",
      "object\n",
      "object\n",
      "object\n",
      "object\n",
      "object\n",
      "object\n",
      "object\n",
      "object\n",
      "object\n",
      "object\n",
      "object\n",
      "object\n",
      "float64\n",
      "object\n",
      "object\n",
      "float64\n",
      "float64\n",
      "float64\n",
      "float64\n",
      "object\n",
      "float64\n",
      "float64\n",
      "float64\n",
      "float64\n",
      "object\n",
      "object\n",
      "object\n",
      "object\n",
      "object\n",
      "object\n",
      "object\n",
      "object\n",
      "object\n",
      "object\n",
      "object\n"
     ]
    }
   ],
   "source": [
    "for type in temp_df.dtypes:\n",
    "    print(type)"
   ]
  },
  {
   "cell_type": "code",
   "execution_count": 15,
   "metadata": {},
   "outputs": [],
   "source": [
    "import duckdb\n",
    "import pandas as pd\n",
    "# No need to import duckdb_engine\n",
    "#  jupysql will auto-detect the driver needed based on the connection string!\n",
    "\n",
    "# Import jupysql Jupyter extension to create SQL cells\n",
    "%load_ext sql"
   ]
  },
  {
   "cell_type": "code",
   "execution_count": 16,
   "metadata": {},
   "outputs": [],
   "source": [
    "%config SqlMagic.autopandas = True\n",
    "%config SqlMagic.feedback = False\n",
    "%config SqlMagic.displaycon = False"
   ]
  },
  {
   "cell_type": "code",
   "execution_count": 17,
   "metadata": {},
   "outputs": [],
   "source": [
    "%sql duckdb:///:default:"
   ]
  },
  {
   "cell_type": "code",
   "execution_count": 34,
   "metadata": {},
   "outputs": [],
   "source": [
    "import pyarrow.parquet as pq\n",
    "import numpy as np\n",
    "import pyarrow as pa"
   ]
  },
  {
   "cell_type": "code",
   "execution_count": 28,
   "metadata": {},
   "outputs": [
    {
     "ename": "TypeMismatchException",
     "evalue": "Mismatch Type Error: Type STRUCT(links STRUCT(linkDescription VARCHAR, linkFunction VARCHAR, linkName VARCHAR, linkProtocol VARCHAR, linkUrl VARCHAR)[], title VARCHAR) does not match with STRUCT(date VARCHAR, links STRUCT(linkDescription VARCHAR, linkFunction VARCHAR, linkName VARCHAR, linkProtocol VARCHAR, linkUrl VARCHAR)[], title VARCHAR). Cannot cast STRUCTs of different size",
     "output_type": "error",
     "traceback": [
      "\u001b[0;31m---------------------------------------------------------------------------\u001b[0m",
      "\u001b[0;31mTypeMismatchException\u001b[0m                     Traceback (most recent call last)",
      "Cell \u001b[0;32mIn[28], line 1\u001b[0m\n\u001b[0;32m----> 1\u001b[0m get_ipython()\u001b[39m.\u001b[39;49mrun_cell_magic(\u001b[39m'\u001b[39;49m\u001b[39msql\u001b[39;49m\u001b[39m'\u001b[39;49m, \u001b[39m'\u001b[39;49m\u001b[39m'\u001b[39;49m, \u001b[39m\"\u001b[39;49m\u001b[39m\\n\u001b[39;49;00m\u001b[39mCREATE TABLE onestop_datasets AS SELECT * FROM read_parquet(\u001b[39;49m\u001b[39m'\u001b[39;49m\u001b[39m./data/onestop/*.parquet\u001b[39;49m\u001b[39m'\u001b[39;49m\u001b[39m, union_by_name=true)\u001b[39;49m\u001b[39m\\n\u001b[39;49;00m\u001b[39m\"\u001b[39;49m)\n",
      "File \u001b[0;32m~/Library/Caches/pypoetry/virtualenvs/ocean-mind-aCDwUJXe-py3.11/lib/python3.11/site-packages/IPython/core/interactiveshell.py:2478\u001b[0m, in \u001b[0;36mInteractiveShell.run_cell_magic\u001b[0;34m(self, magic_name, line, cell)\u001b[0m\n\u001b[1;32m   2476\u001b[0m \u001b[39mwith\u001b[39;00m \u001b[39mself\u001b[39m\u001b[39m.\u001b[39mbuiltin_trap:\n\u001b[1;32m   2477\u001b[0m     args \u001b[39m=\u001b[39m (magic_arg_s, cell)\n\u001b[0;32m-> 2478\u001b[0m     result \u001b[39m=\u001b[39m fn(\u001b[39m*\u001b[39;49margs, \u001b[39m*\u001b[39;49m\u001b[39m*\u001b[39;49mkwargs)\n\u001b[1;32m   2480\u001b[0m \u001b[39m# The code below prevents the output from being displayed\u001b[39;00m\n\u001b[1;32m   2481\u001b[0m \u001b[39m# when using magics with decodator @output_can_be_silenced\u001b[39;00m\n\u001b[1;32m   2482\u001b[0m \u001b[39m# when the last Python token in the expression is a ';'.\u001b[39;00m\n\u001b[1;32m   2483\u001b[0m \u001b[39mif\u001b[39;00m \u001b[39mgetattr\u001b[39m(fn, magic\u001b[39m.\u001b[39mMAGIC_OUTPUT_CAN_BE_SILENCED, \u001b[39mFalse\u001b[39;00m):\n",
      "File \u001b[0;32m~/Library/Caches/pypoetry/virtualenvs/ocean-mind-aCDwUJXe-py3.11/lib/python3.11/site-packages/sql/magic.py:318\u001b[0m, in \u001b[0;36mSqlMagic.execute\u001b[0;34m(self, line, cell, local_ns)\u001b[0m\n\u001b[1;32m    210\u001b[0m \u001b[39m@no_var_expand\u001b[39m\n\u001b[1;32m    211\u001b[0m \u001b[39m@needs_local_scope\u001b[39m\n\u001b[1;32m    212\u001b[0m \u001b[39m@line_magic\u001b[39m(\u001b[39m\"\u001b[39m\u001b[39msql\u001b[39m\u001b[39m\"\u001b[39m)\n\u001b[0;32m   (...)\u001b[0m\n\u001b[1;32m    290\u001b[0m )\n\u001b[1;32m    291\u001b[0m \u001b[39mdef\u001b[39;00m \u001b[39mexecute\u001b[39m(\u001b[39mself\u001b[39m, line\u001b[39m=\u001b[39m\u001b[39m\"\u001b[39m\u001b[39m\"\u001b[39m, cell\u001b[39m=\u001b[39m\u001b[39m\"\u001b[39m\u001b[39m\"\u001b[39m, local_ns\u001b[39m=\u001b[39m\u001b[39mNone\u001b[39;00m):\n\u001b[1;32m    292\u001b[0m \u001b[39m    \u001b[39m\u001b[39m\"\"\"\u001b[39;00m\n\u001b[1;32m    293\u001b[0m \u001b[39m    Runs SQL statement against a database, specified by\u001b[39;00m\n\u001b[1;32m    294\u001b[0m \u001b[39m    SQLAlchemy connect string.\u001b[39;00m\n\u001b[0;32m   (...)\u001b[0m\n\u001b[1;32m    316\u001b[0m \n\u001b[1;32m    317\u001b[0m \u001b[39m    \"\"\"\u001b[39;00m\n\u001b[0;32m--> 318\u001b[0m     \u001b[39mreturn\u001b[39;00m \u001b[39mself\u001b[39;49m\u001b[39m.\u001b[39;49m_execute(\n\u001b[1;32m    319\u001b[0m         line\u001b[39m=\u001b[39;49mline, cell\u001b[39m=\u001b[39;49mcell, local_ns\u001b[39m=\u001b[39;49mlocal_ns, is_interactive_mode\u001b[39m=\u001b[39;49m\u001b[39mFalse\u001b[39;49;00m\n\u001b[1;32m    320\u001b[0m     )\n",
      "File \u001b[0;32m~/Library/Caches/pypoetry/virtualenvs/ocean-mind-aCDwUJXe-py3.11/lib/python3.11/site-packages/ploomber_core/telemetry/telemetry.py:750\u001b[0m, in \u001b[0;36mTelemetry.log_call.<locals>._log_call.<locals>.wrapper\u001b[0;34m(*args, **kwargs)\u001b[0m\n\u001b[1;32m    748\u001b[0m     injected_args \u001b[39m=\u001b[39m \u001b[39mlist\u001b[39m(args)\n\u001b[1;32m    749\u001b[0m     injected_args\u001b[39m.\u001b[39minsert(\u001b[39m1\u001b[39m, _payload)\n\u001b[0;32m--> 750\u001b[0m     result \u001b[39m=\u001b[39m func(\u001b[39m*\u001b[39;49minjected_args, \u001b[39m*\u001b[39;49m\u001b[39m*\u001b[39;49mkwargs)\n\u001b[1;32m    751\u001b[0m \u001b[39melse\u001b[39;00m:\n\u001b[1;32m    752\u001b[0m     result \u001b[39m=\u001b[39m func(_payload, \u001b[39m*\u001b[39margs, \u001b[39m*\u001b[39m\u001b[39m*\u001b[39mkwargs)\n",
      "File \u001b[0;32m~/Library/Caches/pypoetry/virtualenvs/ocean-mind-aCDwUJXe-py3.11/lib/python3.11/site-packages/ploomber_core/exceptions.py:109\u001b[0m, in \u001b[0;36mmodify_exceptions.<locals>.wrapper\u001b[0;34m(*args, **kwargs)\u001b[0m\n\u001b[1;32m    106\u001b[0m \u001b[39m@wraps\u001b[39m(fn)\n\u001b[1;32m    107\u001b[0m \u001b[39mdef\u001b[39;00m \u001b[39mwrapper\u001b[39m(\u001b[39m*\u001b[39margs, \u001b[39m*\u001b[39m\u001b[39m*\u001b[39mkwargs):\n\u001b[1;32m    108\u001b[0m     \u001b[39mtry\u001b[39;00m:\n\u001b[0;32m--> 109\u001b[0m         \u001b[39mreturn\u001b[39;00m fn(\u001b[39m*\u001b[39;49margs, \u001b[39m*\u001b[39;49m\u001b[39m*\u001b[39;49mkwargs)\n\u001b[1;32m    110\u001b[0m     \u001b[39mexcept\u001b[39;00m (\u001b[39mValueError\u001b[39;00m, \u001b[39mTypeError\u001b[39;00m) \u001b[39mas\u001b[39;00m e:\n\u001b[1;32m    111\u001b[0m         _add_community_link(e)\n",
      "File \u001b[0;32m~/Library/Caches/pypoetry/virtualenvs/ocean-mind-aCDwUJXe-py3.11/lib/python3.11/site-packages/sql/magic.py:473\u001b[0m, in \u001b[0;36mSqlMagic._execute\u001b[0;34m(self, payload, line, cell, local_ns, is_interactive_mode)\u001b[0m\n\u001b[1;32m    470\u001b[0m     \u001b[39mreturn\u001b[39;00m\n\u001b[1;32m    472\u001b[0m \u001b[39mtry\u001b[39;00m:\n\u001b[0;32m--> 473\u001b[0m     result \u001b[39m=\u001b[39m sql\u001b[39m.\u001b[39;49mrun\u001b[39m.\u001b[39;49mrun(conn, command\u001b[39m.\u001b[39;49msql, \u001b[39mself\u001b[39;49m)\n\u001b[1;32m    475\u001b[0m     \u001b[39mif\u001b[39;00m (\n\u001b[1;32m    476\u001b[0m         result \u001b[39mis\u001b[39;00m \u001b[39mnot\u001b[39;00m \u001b[39mNone\u001b[39;00m\n\u001b[1;32m    477\u001b[0m         \u001b[39mand\u001b[39;00m \u001b[39mnot\u001b[39;00m \u001b[39misinstance\u001b[39m(result, \u001b[39mstr\u001b[39m)\n\u001b[0;32m   (...)\u001b[0m\n\u001b[1;32m    480\u001b[0m         \u001b[39m# Instead of returning values, set variables directly in the\u001b[39;00m\n\u001b[1;32m    481\u001b[0m         \u001b[39m# users namespace. Variable names given by column names\u001b[39;00m\n\u001b[1;32m    483\u001b[0m         \u001b[39mif\u001b[39;00m \u001b[39mself\u001b[39m\u001b[39m.\u001b[39mautopandas \u001b[39mor\u001b[39;00m \u001b[39mself\u001b[39m\u001b[39m.\u001b[39mautopolars:\n",
      "File \u001b[0;32m~/Library/Caches/pypoetry/virtualenvs/ocean-mind-aCDwUJXe-py3.11/lib/python3.11/site-packages/sql/run.py:543\u001b[0m, in \u001b[0;36mrun\u001b[0;34m(conn, sql, config)\u001b[0m\n\u001b[1;32m    541\u001b[0m     conn \u001b[39m=\u001b[39m conn\u001b[39m.\u001b[39mengine\u001b[39m.\u001b[39mraw_connection()\n\u001b[1;32m    542\u001b[0m     cursor \u001b[39m=\u001b[39m conn\u001b[39m.\u001b[39mcursor()\n\u001b[0;32m--> 543\u001b[0m     cursor\u001b[39m.\u001b[39;49mexecute(\u001b[39mstr\u001b[39;49m(statement))\n\u001b[1;32m    545\u001b[0m \u001b[39melse\u001b[39;00m:\n\u001b[1;32m    546\u001b[0m     result \u001b[39m=\u001b[39m conn\u001b[39m.\u001b[39msession\u001b[39m.\u001b[39mexecute(statement)\n",
      "File \u001b[0;32m~/Library/Caches/pypoetry/virtualenvs/ocean-mind-aCDwUJXe-py3.11/lib/python3.11/site-packages/duckdb_engine/__init__.py:142\u001b[0m, in \u001b[0;36mConnectionWrapper.execute\u001b[0;34m(self, statement, parameters, context)\u001b[0m\n\u001b[1;32m    140\u001b[0m     \u001b[39mself\u001b[39m\u001b[39m.\u001b[39m__c\u001b[39m.\u001b[39mregister(view_name, df)\n\u001b[1;32m    141\u001b[0m \u001b[39melif\u001b[39;00m parameters \u001b[39mis\u001b[39;00m \u001b[39mNone\u001b[39;00m:\n\u001b[0;32m--> 142\u001b[0m     \u001b[39mself\u001b[39;49m\u001b[39m.\u001b[39;49m__c\u001b[39m.\u001b[39;49mexecute(statement)\n\u001b[1;32m    143\u001b[0m \u001b[39melse\u001b[39;00m:\n\u001b[1;32m    144\u001b[0m     \u001b[39mself\u001b[39m\u001b[39m.\u001b[39m__c\u001b[39m.\u001b[39mexecute(statement, parameters)\n",
      "\u001b[0;31mTypeMismatchException\u001b[0m: Mismatch Type Error: Type STRUCT(links STRUCT(linkDescription VARCHAR, linkFunction VARCHAR, linkName VARCHAR, linkProtocol VARCHAR, linkUrl VARCHAR)[], title VARCHAR) does not match with STRUCT(date VARCHAR, links STRUCT(linkDescription VARCHAR, linkFunction VARCHAR, linkName VARCHAR, linkProtocol VARCHAR, linkUrl VARCHAR)[], title VARCHAR). Cannot cast STRUCTs of different size"
     ]
    }
   ],
   "source": [
    "%%sql \n",
    "\n",
    "CREATE TABLE onestop_datasets AS SELECT * FROM read_parquet('./data/onestop/*.parquet', union_by_name=true)"
   ]
  },
  {
   "cell_type": "code",
   "execution_count": 7,
   "metadata": {},
   "outputs": [
    {
     "ename": "CatalogException",
     "evalue": "Catalog Error: Table with name onestop_datasets does not exist!\nDid you mean \"pg_database\"?\nLINE 1: DESCRIBE TABLE onestop_datasets\n                       ^",
     "output_type": "error",
     "traceback": [
      "\u001b[0;31m---------------------------------------------------------------------------\u001b[0m",
      "\u001b[0;31mCatalogException\u001b[0m                          Traceback (most recent call last)",
      "Cell \u001b[0;32mIn[7], line 1\u001b[0m\n\u001b[0;32m----> 1\u001b[0m get_ipython()\u001b[39m.\u001b[39;49mrun_line_magic(\u001b[39m'\u001b[39;49m\u001b[39msql\u001b[39;49m\u001b[39m'\u001b[39;49m, \u001b[39m'\u001b[39;49m\u001b[39mDESCRIBE TABLE onestop_datasets\u001b[39;49m\u001b[39m'\u001b[39;49m)\n",
      "File \u001b[0;32m~/Library/Caches/pypoetry/virtualenvs/ocean-mind-aCDwUJXe-py3.11/lib/python3.11/site-packages/IPython/core/interactiveshell.py:2417\u001b[0m, in \u001b[0;36mInteractiveShell.run_line_magic\u001b[0;34m(self, magic_name, line, _stack_depth)\u001b[0m\n\u001b[1;32m   2415\u001b[0m     kwargs[\u001b[39m'\u001b[39m\u001b[39mlocal_ns\u001b[39m\u001b[39m'\u001b[39m] \u001b[39m=\u001b[39m \u001b[39mself\u001b[39m\u001b[39m.\u001b[39mget_local_scope(stack_depth)\n\u001b[1;32m   2416\u001b[0m \u001b[39mwith\u001b[39;00m \u001b[39mself\u001b[39m\u001b[39m.\u001b[39mbuiltin_trap:\n\u001b[0;32m-> 2417\u001b[0m     result \u001b[39m=\u001b[39m fn(\u001b[39m*\u001b[39;49margs, \u001b[39m*\u001b[39;49m\u001b[39m*\u001b[39;49mkwargs)\n\u001b[1;32m   2419\u001b[0m \u001b[39m# The code below prevents the output from being displayed\u001b[39;00m\n\u001b[1;32m   2420\u001b[0m \u001b[39m# when using magics with decodator @output_can_be_silenced\u001b[39;00m\n\u001b[1;32m   2421\u001b[0m \u001b[39m# when the last Python token in the expression is a ';'.\u001b[39;00m\n\u001b[1;32m   2422\u001b[0m \u001b[39mif\u001b[39;00m \u001b[39mgetattr\u001b[39m(fn, magic\u001b[39m.\u001b[39mMAGIC_OUTPUT_CAN_BE_SILENCED, \u001b[39mFalse\u001b[39;00m):\n",
      "File \u001b[0;32m~/Library/Caches/pypoetry/virtualenvs/ocean-mind-aCDwUJXe-py3.11/lib/python3.11/site-packages/sql/magic.py:318\u001b[0m, in \u001b[0;36mSqlMagic.execute\u001b[0;34m(self, line, cell, local_ns)\u001b[0m\n\u001b[1;32m    210\u001b[0m \u001b[39m@no_var_expand\u001b[39m\n\u001b[1;32m    211\u001b[0m \u001b[39m@needs_local_scope\u001b[39m\n\u001b[1;32m    212\u001b[0m \u001b[39m@line_magic\u001b[39m(\u001b[39m\"\u001b[39m\u001b[39msql\u001b[39m\u001b[39m\"\u001b[39m)\n\u001b[0;32m   (...)\u001b[0m\n\u001b[1;32m    290\u001b[0m )\n\u001b[1;32m    291\u001b[0m \u001b[39mdef\u001b[39;00m \u001b[39mexecute\u001b[39m(\u001b[39mself\u001b[39m, line\u001b[39m=\u001b[39m\u001b[39m\"\u001b[39m\u001b[39m\"\u001b[39m, cell\u001b[39m=\u001b[39m\u001b[39m\"\u001b[39m\u001b[39m\"\u001b[39m, local_ns\u001b[39m=\u001b[39m\u001b[39mNone\u001b[39;00m):\n\u001b[1;32m    292\u001b[0m \u001b[39m    \u001b[39m\u001b[39m\"\"\"\u001b[39;00m\n\u001b[1;32m    293\u001b[0m \u001b[39m    Runs SQL statement against a database, specified by\u001b[39;00m\n\u001b[1;32m    294\u001b[0m \u001b[39m    SQLAlchemy connect string.\u001b[39;00m\n\u001b[0;32m   (...)\u001b[0m\n\u001b[1;32m    316\u001b[0m \n\u001b[1;32m    317\u001b[0m \u001b[39m    \"\"\"\u001b[39;00m\n\u001b[0;32m--> 318\u001b[0m     \u001b[39mreturn\u001b[39;00m \u001b[39mself\u001b[39;49m\u001b[39m.\u001b[39;49m_execute(\n\u001b[1;32m    319\u001b[0m         line\u001b[39m=\u001b[39;49mline, cell\u001b[39m=\u001b[39;49mcell, local_ns\u001b[39m=\u001b[39;49mlocal_ns, is_interactive_mode\u001b[39m=\u001b[39;49m\u001b[39mFalse\u001b[39;49;00m\n\u001b[1;32m    320\u001b[0m     )\n",
      "File \u001b[0;32m~/Library/Caches/pypoetry/virtualenvs/ocean-mind-aCDwUJXe-py3.11/lib/python3.11/site-packages/ploomber_core/telemetry/telemetry.py:750\u001b[0m, in \u001b[0;36mTelemetry.log_call.<locals>._log_call.<locals>.wrapper\u001b[0;34m(*args, **kwargs)\u001b[0m\n\u001b[1;32m    748\u001b[0m     injected_args \u001b[39m=\u001b[39m \u001b[39mlist\u001b[39m(args)\n\u001b[1;32m    749\u001b[0m     injected_args\u001b[39m.\u001b[39minsert(\u001b[39m1\u001b[39m, _payload)\n\u001b[0;32m--> 750\u001b[0m     result \u001b[39m=\u001b[39m func(\u001b[39m*\u001b[39;49minjected_args, \u001b[39m*\u001b[39;49m\u001b[39m*\u001b[39;49mkwargs)\n\u001b[1;32m    751\u001b[0m \u001b[39melse\u001b[39;00m:\n\u001b[1;32m    752\u001b[0m     result \u001b[39m=\u001b[39m func(_payload, \u001b[39m*\u001b[39margs, \u001b[39m*\u001b[39m\u001b[39m*\u001b[39mkwargs)\n",
      "File \u001b[0;32m~/Library/Caches/pypoetry/virtualenvs/ocean-mind-aCDwUJXe-py3.11/lib/python3.11/site-packages/ploomber_core/exceptions.py:109\u001b[0m, in \u001b[0;36mmodify_exceptions.<locals>.wrapper\u001b[0;34m(*args, **kwargs)\u001b[0m\n\u001b[1;32m    106\u001b[0m \u001b[39m@wraps\u001b[39m(fn)\n\u001b[1;32m    107\u001b[0m \u001b[39mdef\u001b[39;00m \u001b[39mwrapper\u001b[39m(\u001b[39m*\u001b[39margs, \u001b[39m*\u001b[39m\u001b[39m*\u001b[39mkwargs):\n\u001b[1;32m    108\u001b[0m     \u001b[39mtry\u001b[39;00m:\n\u001b[0;32m--> 109\u001b[0m         \u001b[39mreturn\u001b[39;00m fn(\u001b[39m*\u001b[39;49margs, \u001b[39m*\u001b[39;49m\u001b[39m*\u001b[39;49mkwargs)\n\u001b[1;32m    110\u001b[0m     \u001b[39mexcept\u001b[39;00m (\u001b[39mValueError\u001b[39;00m, \u001b[39mTypeError\u001b[39;00m) \u001b[39mas\u001b[39;00m e:\n\u001b[1;32m    111\u001b[0m         _add_community_link(e)\n",
      "File \u001b[0;32m~/Library/Caches/pypoetry/virtualenvs/ocean-mind-aCDwUJXe-py3.11/lib/python3.11/site-packages/sql/magic.py:473\u001b[0m, in \u001b[0;36mSqlMagic._execute\u001b[0;34m(self, payload, line, cell, local_ns, is_interactive_mode)\u001b[0m\n\u001b[1;32m    470\u001b[0m     \u001b[39mreturn\u001b[39;00m\n\u001b[1;32m    472\u001b[0m \u001b[39mtry\u001b[39;00m:\n\u001b[0;32m--> 473\u001b[0m     result \u001b[39m=\u001b[39m sql\u001b[39m.\u001b[39;49mrun\u001b[39m.\u001b[39;49mrun(conn, command\u001b[39m.\u001b[39;49msql, \u001b[39mself\u001b[39;49m)\n\u001b[1;32m    475\u001b[0m     \u001b[39mif\u001b[39;00m (\n\u001b[1;32m    476\u001b[0m         result \u001b[39mis\u001b[39;00m \u001b[39mnot\u001b[39;00m \u001b[39mNone\u001b[39;00m\n\u001b[1;32m    477\u001b[0m         \u001b[39mand\u001b[39;00m \u001b[39mnot\u001b[39;00m \u001b[39misinstance\u001b[39m(result, \u001b[39mstr\u001b[39m)\n\u001b[0;32m   (...)\u001b[0m\n\u001b[1;32m    480\u001b[0m         \u001b[39m# Instead of returning values, set variables directly in the\u001b[39;00m\n\u001b[1;32m    481\u001b[0m         \u001b[39m# users namespace. Variable names given by column names\u001b[39;00m\n\u001b[1;32m    483\u001b[0m         \u001b[39mif\u001b[39;00m \u001b[39mself\u001b[39m\u001b[39m.\u001b[39mautopandas \u001b[39mor\u001b[39;00m \u001b[39mself\u001b[39m\u001b[39m.\u001b[39mautopolars:\n",
      "File \u001b[0;32m~/Library/Caches/pypoetry/virtualenvs/ocean-mind-aCDwUJXe-py3.11/lib/python3.11/site-packages/sql/run.py:543\u001b[0m, in \u001b[0;36mrun\u001b[0;34m(conn, sql, config)\u001b[0m\n\u001b[1;32m    541\u001b[0m     conn \u001b[39m=\u001b[39m conn\u001b[39m.\u001b[39mengine\u001b[39m.\u001b[39mraw_connection()\n\u001b[1;32m    542\u001b[0m     cursor \u001b[39m=\u001b[39m conn\u001b[39m.\u001b[39mcursor()\n\u001b[0;32m--> 543\u001b[0m     cursor\u001b[39m.\u001b[39;49mexecute(\u001b[39mstr\u001b[39;49m(statement))\n\u001b[1;32m    545\u001b[0m \u001b[39melse\u001b[39;00m:\n\u001b[1;32m    546\u001b[0m     result \u001b[39m=\u001b[39m conn\u001b[39m.\u001b[39msession\u001b[39m.\u001b[39mexecute(statement)\n",
      "File \u001b[0;32m~/Library/Caches/pypoetry/virtualenvs/ocean-mind-aCDwUJXe-py3.11/lib/python3.11/site-packages/duckdb_engine/__init__.py:142\u001b[0m, in \u001b[0;36mConnectionWrapper.execute\u001b[0;34m(self, statement, parameters, context)\u001b[0m\n\u001b[1;32m    140\u001b[0m     \u001b[39mself\u001b[39m\u001b[39m.\u001b[39m__c\u001b[39m.\u001b[39mregister(view_name, df)\n\u001b[1;32m    141\u001b[0m \u001b[39melif\u001b[39;00m parameters \u001b[39mis\u001b[39;00m \u001b[39mNone\u001b[39;00m:\n\u001b[0;32m--> 142\u001b[0m     \u001b[39mself\u001b[39;49m\u001b[39m.\u001b[39;49m__c\u001b[39m.\u001b[39;49mexecute(statement)\n\u001b[1;32m    143\u001b[0m \u001b[39melse\u001b[39;00m:\n\u001b[1;32m    144\u001b[0m     \u001b[39mself\u001b[39m\u001b[39m.\u001b[39m__c\u001b[39m.\u001b[39mexecute(statement, parameters)\n",
      "\u001b[0;31mCatalogException\u001b[0m: Catalog Error: Table with name onestop_datasets does not exist!\nDid you mean \"pg_database\"?\nLINE 1: DESCRIBE TABLE onestop_datasets\n                       ^"
     ]
    }
   ],
   "source": [
    "%sql DESCRIBE TABLE onestop_datasets"
   ]
  },
  {
   "cell_type": "code",
   "execution_count": 46,
   "metadata": {},
   "outputs": [
    {
     "data": {
      "text/html": [
       "<div>\n",
       "<style scoped>\n",
       "    .dataframe tbody tr th:only-of-type {\n",
       "        vertical-align: middle;\n",
       "    }\n",
       "\n",
       "    .dataframe tbody tr th {\n",
       "        vertical-align: top;\n",
       "    }\n",
       "\n",
       "    .dataframe thead th {\n",
       "        text-align: right;\n",
       "    }\n",
       "</style>\n",
       "<table border=\"1\" class=\"dataframe\">\n",
       "  <thead>\n",
       "    <tr style=\"text-align: right;\">\n",
       "      <th></th>\n",
       "      <th>Success</th>\n",
       "    </tr>\n",
       "  </thead>\n",
       "  <tbody>\n",
       "  </tbody>\n",
       "</table>\n",
       "</div>"
      ],
      "text/plain": [
       "Empty DataFrame\n",
       "Columns: [Success]\n",
       "Index: []"
      ]
     },
     "execution_count": 46,
     "metadata": {},
     "output_type": "execute_result"
    }
   ],
   "source": [
    "%sql ALTER TABLE onestop_datasets ADD COLUMN onestop_query VARCHAR"
   ]
  },
  {
   "cell_type": "code",
   "execution_count": 49,
   "metadata": {},
   "outputs": [],
   "source": [
    "from datasets import async_pool_fetcher\n",
    "\n",
    "con = duckdb.connect(database=':default:')\n",
    "\n",
    "def duckdb_conn_wrapper(duckdb_con, table):\n",
    "    def handle_results(data):\n",
    "        local_con = duckdb_con.cursor()\n",
    "        df = pd.json_normalize(data['data'])\n",
    "        df['onestop_query'] = query['queries'][0]\n",
    "        local_con.execute(f\"\"\"\n",
    "            INSERT INTO {table} SELECT * FROM df\n",
    "        \"\"\")\n",
    "    return handle_results\n",
    "\n",
    "handler = duckdb_conn_wrapper(con, 'onestop_datasets')\n"
   ]
  }
 ],
 "metadata": {
  "kernelspec": {
   "display_name": "ocean-mind-aCDwUJXe-py3.11",
   "language": "python",
   "name": "python3"
  },
  "language_info": {
   "codemirror_mode": {
    "name": "ipython",
    "version": 3
   },
   "file_extension": ".py",
   "mimetype": "text/x-python",
   "name": "python",
   "nbconvert_exporter": "python",
   "pygments_lexer": "ipython3",
   "version": "3.11.3"
  },
  "orig_nbformat": 4
 },
 "nbformat": 4,
 "nbformat_minor": 2
}
